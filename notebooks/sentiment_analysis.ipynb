{
 "cells": [
  {
   "attachments": {},
   "cell_type": "markdown",
   "metadata": {},
   "source": [
    "# Análisis de Sentimientos y Traducción con Transformers 🤖💬\n",
    "\n",
    "### Tigre Hacks 2023 - Monterrey 🐯\n",
    "-----\n",
    "\n",
    "*Por: [Missael Barco](https://www.linkedin.com/in/gmissaelbarco/)*\n",
    "\n",
    "En este notebook, exploraremos la potencia de la librería **Transformers** de Hugging Face 🤗, que nos permite utilizar modelos de procesamiento de lenguaje natural (NLP) pre-entrenados de manera rápida y sencilla. En particular, utilizaremos la función `pipeline` para implementar análisis de sentimientos 💖☹️ y traducción de texto en pocas líneas de código.\n",
    "\n",
    "La función `pipeline` es una función muy útil de Transformers, ya que nos permite acceder y utilizar una amplia gama de modelos de NLP pre-entrenados para diferentes tareas, como análisis de sentimientos, traducción de texto, resumen de texto, entre otros ¡con una sola línea de código! 🤯\n",
    "\n",
    "Durante este taller, crearemos una función que toma una oración en español como entrada y devuelve tanto el análisis de sentimientos como la traducción al inglés de la oración.\n"
   ]
  },
  {
   "cell_type": "code",
   "execution_count": 1,
   "metadata": {},
   "outputs": [
    {
     "name": "stderr",
     "output_type": "stream",
     "text": [
      "/home/missa/projects/HackCIMAT/streamlit_workshop/env/lib/python3.8/site-packages/tqdm/auto.py:21: TqdmWarning: IProgress not found. Please update jupyter and ipywidgets. See https://ipywidgets.readthedocs.io/en/stable/user_install.html\n",
      "  from .autonotebook import tqdm as notebook_tqdm\n"
     ]
    }
   ],
   "source": [
    "from transformers import pipeline"
   ]
  },
  {
   "cell_type": "code",
   "execution_count": 2,
   "metadata": {},
   "outputs": [
    {
     "name": "stderr",
     "output_type": "stream",
     "text": [
      "Xformers is not installed correctly. If you want to use memorry_efficient_attention to accelerate training use the following command to install Xformers\n",
      "pip install xformers.\n",
      "Downloading (…)olve/main/source.spm: 100%|██████████| 826k/826k [00:00<00:00, 3.13MB/s]\n",
      "Downloading (…)olve/main/target.spm: 100%|██████████| 802k/802k [00:00<00:00, 22.2MB/s]\n",
      "Downloading (…)olve/main/vocab.json: 100%|██████████| 1.59M/1.59M [00:00<00:00, 5.08MB/s]\n",
      "/home/missa/projects/HackCIMAT/streamlit_workshop/env/lib/python3.8/site-packages/transformers/models/marian/tokenization_marian.py:194: UserWarning: Recommended: pip install sacremoses.\n",
      "  warnings.warn(\"Recommended: pip install sacremoses.\")\n"
     ]
    }
   ],
   "source": [
    "sentiment_analysis = pipeline(\"sentiment-analysis\", model=\"nlptown/bert-base-multilingual-uncased-sentiment\")\n",
    "translation = pipeline(\"translation_en_to_es\", model=\"Helsinki-NLP/opus-mt-es-en\")"
   ]
  },
  {
   "cell_type": "code",
   "execution_count": 4,
   "metadata": {},
   "outputs": [],
   "source": [
    "def analyze_and_translate(sentence):\n",
    "    # Análisis de sentimientos\n",
    "    sentiment = sentiment_analysis(sentence)[0]\n",
    "    print(f\"Sentimiento: {sentiment['label']}, Score: {sentiment['score']}\")\n",
    "\n",
    "    # Traducción\n",
    "    translated_text = translation(sentence)[0]['translation_text']\n",
    "    print(f\"Texto traducido: {translated_text}\")"
   ]
  },
  {
   "cell_type": "code",
   "execution_count": 5,
   "metadata": {},
   "outputs": [
    {
     "name": "stdout",
     "output_type": "stream",
     "text": [
      "Sentimiento: 5 stars, Score: 0.8756977319717407\n",
      "Texto traducido: This Streamlit workshop is fantastic!\n",
      "Sentimiento: 1 star, Score: 0.48299524188041687\n",
      "Texto traducido: I don't understand anything that's going on.\n"
     ]
    }
   ],
   "source": [
    "analyze_and_translate(\"¡Este taller de Streamlit es fantástico!\")\n",
    "analyze_and_translate(\"No entiendo nada de lo que está pasando.\")"
   ]
  }
 ],
 "metadata": {
  "kernelspec": {
   "display_name": "env",
   "language": "python",
   "name": "python3"
  },
  "language_info": {
   "codemirror_mode": {
    "name": "ipython",
    "version": 3
   },
   "file_extension": ".py",
   "mimetype": "text/x-python",
   "name": "python",
   "nbconvert_exporter": "python",
   "pygments_lexer": "ipython3",
   "version": "3.8.10"
  },
  "orig_nbformat": 4
 },
 "nbformat": 4,
 "nbformat_minor": 2
}
